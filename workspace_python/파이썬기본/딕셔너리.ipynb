{
 "cells": [
  {
   "cell_type": "code",
   "execution_count": null,
   "metadata": {},
   "outputs": [],
   "source": [
    "#딕셔너리(Dictionary)\n",
    "# 여러 데이터가 key와 value의 쌍으로 저장한 데이터"
   ]
  },
  {
   "cell_type": "code",
   "execution_count": 1,
   "metadata": {},
   "outputs": [
    {
     "name": "stdout",
     "output_type": "stream",
     "text": [
      "{'nmae': 'kim', 'age': 20}\n"
     ]
    }
   ],
   "source": [
    "# 빈 딕셔너리 생성\n",
    "dic1 = {}\n",
    "dic2 = {'nmae' : 'kim', 'age' : 20}\n",
    "print(dic2)"
   ]
  },
  {
   "cell_type": "code",
   "execution_count": 2,
   "metadata": {},
   "outputs": [
    {
     "name": "stdout",
     "output_type": "stream",
     "text": [
      "{'stuNum': 3, 'stuName': 'hong'}\n"
     ]
    }
   ],
   "source": [
    "# 중복된 key 값을 가질수 없음\n",
    "dic3 = {\n",
    "  'stuNum' : 1,\n",
    "  'stuName' : 'hong',\n",
    "  'stuNum' : 3\n",
    "}\n",
    "print(dic3)\n"
   ]
  },
  {
   "cell_type": "code",
   "execution_count": 4,
   "metadata": {},
   "outputs": [
    {
     "name": "stdout",
     "output_type": "stream",
     "text": [
      "{'name': 'lee'}\n",
      "{'name': 'kim'}\n"
     ]
    }
   ],
   "source": [
    "# 데이터 추가\n",
    "# dic['key'] = vlaue\n",
    "dic1 = {}\n",
    "dic1['name'] = 'lee'\n",
    "print(dic1)\n",
    "\n",
    "# name이라는 key 값을 kim 으로 변경\n",
    "dic1['name'] = 'kim'\n",
    "print(dic1)\n",
    "\n"
   ]
  },
  {
   "cell_type": "code",
   "execution_count": 5,
   "metadata": {},
   "outputs": [
    {
     "name": "stdout",
     "output_type": "stream",
     "text": [
      "{'modelname': 'iphone', 'price': 10000}\n"
     ]
    }
   ],
   "source": [
    "# 데이터 삭제\n",
    "phone = {\n",
    "  'modelname' : 'iphone',\n",
    "  'price' : 10000,\n",
    "  'color' : 'black'\n",
    "}\n",
    "\n",
    "del phone['color']\n",
    "print(phone)"
   ]
  },
  {
   "cell_type": "code",
   "execution_count": 19,
   "metadata": {},
   "outputs": [
    {
     "name": "stdout",
     "output_type": "stream",
     "text": [
      "samsung\n",
      "dict_keys(['brand', 'price', 'inch', 'color'])\n",
      "dict_values(['samsung', 10000, 24, 'white'])\n",
      "brand samsung\n",
      "price 10000\n",
      "inch 24\n",
      "color white\n"
     ]
    }
   ],
   "source": [
    "# 데이터 출력 \n",
    "monitor = {\n",
    "  'brand' : 'samsung',\n",
    "  'price' : 10000,\n",
    "  'inch' : 24,\n",
    "  'color' : 'white'\n",
    "}\n",
    "\n",
    "# 브랜드만 출력\n",
    "print(monitor['brand'])\n",
    "\n",
    "# 모든 키 값을 출력\n",
    "print(monitor.keys())\n",
    "\n",
    "# 모든 value 값 출력\n",
    "print(monitor.values())\n",
    "\n",
    "# 반복문을 이용한 key 와 value 출력\n",
    "for key in monitor.keys() :\n",
    "  print(key, monitor[key])\n",
    "\n",
    "\n",
    "\n",
    "\n"
   ]
  },
  {
   "cell_type": "code",
   "execution_count": 23,
   "metadata": {},
   "outputs": [
    {
     "name": "stdout",
     "output_type": "stream",
     "text": [
      "game\n",
      "lee\n"
     ]
    }
   ],
   "source": [
    "intro = {\n",
    "  'name' : 'hong',\n",
    "  'age' : 20,\n",
    "  'hobby' : ['game', 'study'],\n",
    "  'family' : {\n",
    "    'mother' : 'lee',\n",
    "    'father' : 'hong'\n",
    "  }\n",
    "}\n",
    "print(intro['hobby'][0])\n",
    "print(intro['family']['mother'])"
   ]
  },
  {
   "cell_type": "code",
   "execution_count": 24,
   "metadata": {},
   "outputs": [],
   "source": [
    "#  아래의 데이터를 참고하여 문제 해결\n",
    "student = {\n",
    "  'name' : 'hong',\n",
    "  'korScore' : 0,\n",
    "  'mathScroe' : 0\n",
    "}"
   ]
  },
  {
   "cell_type": "code",
   "execution_count": 34,
   "metadata": {},
   "outputs": [
    {
     "name": "stdout",
     "output_type": "stream",
     "text": [
      "{'name': 'hong', 'korScore': 50, 'mathScroe': 50, 'totalScroe': 100}\n"
     ]
    }
   ],
   "source": [
    "num1 = int(input())\n",
    "num2 = int(input())\n",
    "num3 = num1 + num2\n",
    "student['korScore'] = num1\n",
    "student['mathScroe'] = num2\n",
    "student['totalScroe'] = num3\n",
    "print(student)\n"
   ]
  },
  {
   "cell_type": "code",
   "execution_count": 33,
   "metadata": {},
   "outputs": [],
   "source": []
  }
 ],
 "metadata": {
  "kernelspec": {
   "display_name": "Python 3",
   "language": "python",
   "name": "python3"
  },
  "language_info": {
   "codemirror_mode": {
    "name": "ipython",
    "version": 3
   },
   "file_extension": ".py",
   "mimetype": "text/x-python",
   "name": "python",
   "nbconvert_exporter": "python",
   "pygments_lexer": "ipython3",
   "version": "3.12.5"
  }
 },
 "nbformat": 4,
 "nbformat_minor": 2
}
