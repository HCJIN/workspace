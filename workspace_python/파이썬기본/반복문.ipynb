{
 "cells": [
  {
   "cell_type": "code",
   "execution_count": 2,
   "metadata": {},
   "outputs": [
    {
     "name": "stdout",
     "output_type": "stream",
     "text": [
      "1\n",
      "2\n",
      "3\n"
     ]
    }
   ],
   "source": [
    "# 파이썬은 for-each문만 있음\n",
    "for i in [1,2,3] :\n",
    "  print(i)"
   ]
  },
  {
   "cell_type": "code",
   "execution_count": 3,
   "metadata": {},
   "outputs": [
    {
     "name": "stdout",
     "output_type": "stream",
     "text": [
      "1\n",
      "2\n",
      "3\n",
      "4\n",
      "5\n"
     ]
    }
   ],
   "source": [
    "numList = [1,2,3,4,5]\n",
    "for i in numList :\n",
    "  print(i)"
   ]
  },
  {
   "cell_type": "code",
   "execution_count": 1,
   "metadata": {},
   "outputs": [
    {
     "name": "stdout",
     "output_type": "stream",
     "text": [
      "1 x 1 = 1\n",
      "2 x 2 = 4\n",
      "3 x 3 = 9\n",
      "4 x 4 = 16\n",
      "5 x 5 = 25\n",
      "6 x 6 = 36\n",
      "7 x 7 = 49\n",
      "8 x 8 = 64\n",
      "9 x 9 = 81\n"
     ]
    }
   ],
   "source": [
    "for i in range(1,10) :\n",
    "  print(i, 'x', i, '=', i*i)"
   ]
  },
  {
   "cell_type": "code",
   "execution_count": 7,
   "metadata": {},
   "outputs": [
    {
     "name": "stdout",
     "output_type": "stream",
     "text": [
      "1\n",
      "2\n",
      "3\n",
      "4\n",
      "0\n",
      "1\n",
      "2\n"
     ]
    }
   ],
   "source": [
    "# range(a,b) : a부터 b 이전까지 1씩 증가되는 숫자의 나열 \n",
    "# range(1,5) : 1,2,3,4\n",
    "# range(5) : 첫번째 매개변수를 0으로 지정 -> 0 1 2 3 4\n",
    "for i in range(1, 5) :\n",
    "  print(i)\n",
    "\n",
    "# 세번 반복\n",
    "for i in range(3) :\n",
    "  print(i)"
   ]
  },
  {
   "cell_type": "code",
   "execution_count": 8,
   "metadata": {},
   "outputs": [
    {
     "name": "stdout",
     "output_type": "stream",
     "text": [
      "5\n"
     ]
    }
   ],
   "source": [
    "# 1. 1~10 까지의 정수 중 짝수 \n",
    "num = 0\n",
    "for i in range(1,11) :\n",
    "  if i % 2 == 0 :\n",
    "    num += 1\n",
    "  \n",
    "print(num)"
   ]
  },
  {
   "cell_type": "code",
   "execution_count": 21,
   "metadata": {},
   "outputs": [
    {
     "name": "stdout",
     "output_type": "stream",
     "text": [
      "3의 배수 3\n",
      "3의 배수 6\n",
      "3의 배수 9\n",
      "3의 배수 12\n",
      "3의 배수 15\n",
      "3의 배수 18\n",
      "3의 배수의 갯수 6\n"
     ]
    }
   ],
   "source": [
    "# 2. 1~20까지의 정수 중 3의 배수의 갯수를 출력하고 3의 배수도 모두 출력\n",
    "num = 0\n",
    "for i in range(1,21) :\n",
    "  if i % 3 == 0 :\n",
    "    num += 1\n",
    "    print(f'3의 배수 {i}')    \n",
    "\n",
    "print(f'3의 배수의 갯수 {num}')"
   ]
  },
  {
   "cell_type": "code",
   "execution_count": 11,
   "metadata": {},
   "outputs": [
    {
     "name": "stdout",
     "output_type": "stream",
     "text": [
      "55\n"
     ]
    }
   ],
   "source": [
    "# 3. 키보드로 입력받은 두 정수 사이(입력받은 정수는 미포함)의 모든 수의 합을 출력\n",
    "num1 = int(input())\n",
    "num2 = int(input())\n",
    "max = 0\n",
    "min = 0\n",
    "sum = 0\n",
    "if num1 < num2 :\n",
    "  max = num2\n",
    "  min = num1 \n",
    "else :\n",
    "  max = num1 \n",
    "  min = num2\n",
    "\n",
    "for i in range(min +1, max) :\n",
    "  sum = sum + i\n",
    "print(sum)"
   ]
  },
  {
   "cell_type": "code",
   "execution_count": 24,
   "metadata": {},
   "outputs": [
    {
     "name": "stdout",
     "output_type": "stream",
     "text": [
      "55\n"
     ]
    }
   ],
   "source": [
    "# 3. 키보드로 입력받은 두 정수 사이(입력받은 정수는 미포함)의 모든 수의 합을 출력\n",
    "num1 = int(input())\n",
    "num2 = int(input())\n",
    "sum = 0\n",
    "\n",
    "# 큰 수, 작은 수를 삼항연산자로 계산\n",
    "# 파이썬 : 참일때 값 if 조건 else 거짓일 때 값\n",
    "max = num1 if num1 > num2 else num2\n",
    "min = num1 if num1 < num2 else num2\n",
    "\n",
    "for i in range(min +1, max) :\n",
    "  sum = sum + i\n",
    "print(sum)"
   ]
  },
  {
   "cell_type": "code",
   "execution_count": 25,
   "metadata": {},
   "outputs": [
    {
     "name": "stdout",
     "output_type": "stream",
     "text": [
      "포함\n",
      "포함\n"
     ]
    }
   ],
   "source": [
    "# 4. 아래에 제시한 data에서 5가 포함되어 있는지 판단하고, 5가 포함되어 있으면\n",
    "# '포함'을 출력\n",
    "data = [1,3,5,7,9]\n",
    "\n",
    "# 자바식 접근법\n",
    "for i in data :\n",
    "  if i == 5 :\n",
    "    print('포함')\n",
    "\n",
    "# 파이썬의 접근법\n",
    "if 5 in data :\n",
    "  print('포함')\n"
   ]
  }
 ],
 "metadata": {
  "kernelspec": {
   "display_name": "Python 3",
   "language": "python",
   "name": "python3"
  },
  "language_info": {
   "codemirror_mode": {
    "name": "ipython",
    "version": 3
   },
   "file_extension": ".py",
   "mimetype": "text/x-python",
   "name": "python",
   "nbconvert_exporter": "python",
   "pygments_lexer": "ipython3",
   "version": "3.12.5"
  }
 },
 "nbformat": 4,
 "nbformat_minor": 2
}
