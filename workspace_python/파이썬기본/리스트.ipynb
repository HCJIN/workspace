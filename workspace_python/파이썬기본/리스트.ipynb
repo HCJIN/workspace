{
 "cells": [
  {
   "cell_type": "code",
   "execution_count": 5,
   "metadata": {},
   "outputs": [
    {
     "name": "stdout",
     "output_type": "stream",
     "text": [
      "5\n"
     ]
    }
   ],
   "source": [
    "# 리스트 변수 만들 때 변수명은 절대 list 사용x\n",
    "# 리스트 생성\n",
    "list1 = []\n",
    "list2 = [1,2,3,'python']\n",
    "list3 = [1,2,[3,4,5]]\n",
    "\n",
    "# 리스트의 요소에 접근 방법\n",
    "list3 = [1,2,[3,4,5],[6,7]]\n",
    "print(list3[2][2])"
   ]
  },
  {
   "cell_type": "code",
   "execution_count": 12,
   "metadata": {},
   "outputs": [
    {
     "name": "stdout",
     "output_type": "stream",
     "text": [
      "[1, 2, 'ㅎㅇ', [1, 2, 3]]\n"
     ]
    }
   ],
   "source": [
    "# 리스트에 데이터 추가 \n",
    "\n",
    "# 빈 리스트를 생성 \n",
    "list1 = []\n",
    "\n",
    "# 데이터 추가\n",
    "# append() list의 마지막에 데이터 추가\n",
    "list1.append(1)\n",
    "list1.append(2)\n",
    "list1.append('ㅎㅇ')\n",
    "list1.append([1,2,3])\n",
    "print(list1)"
   ]
  },
  {
   "cell_type": "code",
   "execution_count": 242,
   "metadata": {},
   "outputs": [
    {
     "name": "stdout",
     "output_type": "stream",
     "text": [
      "[3, 1, 5, 5, 5, 5, 5, 5, 5, 5, 5, 5, 5, 5, 5, 5, 5, 5, 5, 5, 5, 5, 5, 5, 5, 5, 5, 5, 5, 5, 5, 5, 5, 5, 5, 5, 5, 5, 5, 5, 5, 5, 5, 5, 5, 5, 5, 5, 5, 5, 5, 5, 5, 5, 5, 5, 5, 5, 5, 5, 5, 5, 5, 5, 5, 5, 5, 5, 5, 5, 5, 5, 5, 5, 5, 5, 5, 5, 5, 5, 5, 5, 5, 5, 5, 5, 5, 5, 5, 5, 5, 5, 5, 5, 5, 5, 5, 5, 5, 5, 5, 5, 5, 5, 5, 5, 5, 5, 5, 5, 5, 5, 5, 5, 5, 5, 5, 5, 5, 5, 5, 5, 5, 5, 5, 5, 5, 5, 5, 5, 5, 5, 5, 5, 5, 5, 5, 5, 5, 5, 5, 5, 5, 5, 5, 5, 5, 5, 5, 5, 5, 5, 5, 5, 5, 5, 5, 5, 5, 5, 5, 5, 5, 5, 5, 5, 5, 5, 5, 5, 5, 5, 5, 5, 5, 5, 5, 5, 5, 5, 5, 5, 5, 5, 5, 5, 5, 5, 5, 5, 5, 5, 5, 5, 5, 5, 5, 5, 5, 5, 5, 5, 5, 5, 5, 5, 5, 5, 5, 5, 5, 5, 5, 5, 5, 5, 5, 5, 5, 5, 5, 5, 5, 5, 5, 5, 5, 5, 5, 5, 2, 'ㅎㅇ', [1, 2, 3]]\n"
     ]
    }
   ],
   "source": [
    "# 데이터 추가 두번째\n",
    "# insert(추가할 위치, 추가할 데이터)\n",
    "list1.insert(0, 3)\n",
    "print(list1)"
   ]
  },
  {
   "cell_type": "code",
   "execution_count": 498,
   "metadata": {},
   "outputs": [
    {
     "name": "stdout",
     "output_type": "stream",
     "text": [
      "[[1, 2, 3], [4, 5, 6]]\n"
     ]
    }
   ],
   "source": [
    "# 리스트 데이터 삭제\n",
    "\n",
    "# () 안의 데이터를 삭제 중복값이 있으면 제일 먼저 만나는 값 삭제\n",
    "list1.remove(5)\n",
    "print(list1)"
   ]
  },
  {
   "cell_type": "code",
   "execution_count": 499,
   "metadata": {},
   "outputs": [
    {
     "name": "stdout",
     "output_type": "stream",
     "text": [
      "[2, 'python', [1, 2, 3]]\n"
     ]
    }
   ],
   "source": [
    "# 리스트 데이터 삭제2 (추천!!!)\n",
    "list4 = [1,2,'python',[1,2,3]]\n",
    "del list4[0]\n",
    "\n",
    "print(list4)"
   ]
  },
  {
   "cell_type": "code",
   "execution_count": null,
   "metadata": {},
   "outputs": [],
   "source": [
    "# 삭제 시 주의\n",
    "# 아래 코드는 list4라는 리스트 자체를 삭제\n",
    "# del list4"
   ]
  },
  {
   "cell_type": "code",
   "execution_count": 504,
   "metadata": {},
   "outputs": [],
   "source": [
    "stuNum = 10 \n",
    "stunum = 10\n",
    "del stunum "
   ]
  },
  {
   "cell_type": "code",
   "execution_count": 505,
   "metadata": {},
   "outputs": [
    {
     "name": "stdout",
     "output_type": "stream",
     "text": [
      "[1, 5, 3]\n"
     ]
    }
   ],
   "source": [
    "# 리스트 데이터 수정\n",
    "list5 = [1,2,3]\n",
    "list5[1] = 5\n",
    "print(list5)"
   ]
  },
  {
   "cell_type": "code",
   "execution_count": 506,
   "metadata": {},
   "outputs": [
    {
     "name": "stdout",
     "output_type": "stream",
     "text": [
      "[1, 2, 3, 4, 5]\n"
     ]
    }
   ],
   "source": [
    "arr1 = [1,2,3]\n",
    "arr2 = [4,5]\n",
    "arr3 = arr1+arr2\n",
    "print(arr3)"
   ]
  },
  {
   "cell_type": "code",
   "execution_count": 508,
   "metadata": {},
   "outputs": [
    {
     "name": "stdout",
     "output_type": "stream",
     "text": [
      "[1, 2, 3, 4, 5]\n",
      "[1, 2, 3, 1, 2, 3, 1, 2, 3, 1, 2, 3, 1, 2, 3, 1, 2, 3, 1, 2, 3, 1, 2, 3]\n"
     ]
    }
   ],
   "source": [
    "# 리스트 합치기 \n",
    "list6 = [1,2,3] + [4,5]\n",
    "print(list6)\n",
    "list7 = [1,2,3] * 8\n",
    "print(list7)"
   ]
  },
  {
   "cell_type": "code",
   "execution_count": 515,
   "metadata": {},
   "outputs": [
    {
     "name": "stdout",
     "output_type": "stream",
     "text": [
      "[2, 3, 4]\n",
      "[2, 3, 4, 5]\n",
      "[1, 2, 3]\n",
      "[1, 2, 3, 4, 5]\n"
     ]
    }
   ],
   "source": [
    "# 리스트의 슬라이싱 : 리스트 데이터의 일부 추출\n",
    "list1 = [1,2,3,4,5]\n",
    "print(list1[1:4])\n",
    "print(list1[1:])\n",
    "print(list1[:3])\n",
    "print(list1[:])"
   ]
  },
  {
   "cell_type": "code",
   "execution_count": 517,
   "metadata": {},
   "outputs": [],
   "source": [
    "# 슬라이싱을 이요한 데이터 삭제\n",
    "list1 = [1,2,3,4,5]\n",
    "del list1[1:4]"
   ]
  },
  {
   "cell_type": "code",
   "execution_count": 520,
   "metadata": {},
   "outputs": [],
   "source": [
    "# 슬라이싱을 이용한 데이터 수정\n",
    "list1 = [1,2,3,4,5]\n",
    "list1[1:3] = [7,8]\n"
   ]
  },
  {
   "cell_type": "code",
   "execution_count": 522,
   "metadata": {},
   "outputs": [
    {
     "name": "stdout",
     "output_type": "stream",
     "text": [
      "5\n",
      "[2, 3, 4]\n"
     ]
    }
   ],
   "source": [
    "# 리스트의 마지막 데이터를 알고 싶을 때 [-1] 사용\n",
    "list1 = [1,2,3,4,5]\n",
    "print(list1[-1])\n",
    "print(list1[1:-1])"
   ]
  },
  {
   "cell_type": "code",
   "execution_count": 538,
   "metadata": {},
   "outputs": [
    {
     "name": "stdout",
     "output_type": "stream",
     "text": [
      "20\n"
     ]
    }
   ],
   "source": [
    "#1. 키보드로 세 수를 입력받고, 입력받은 세 수를 리스트에 저장하시오. 그 후 스트에 저장된 수 중 가장 큰 수와 가장 작은 수의 차를 출력하시오.\n",
    "list1 = []\n",
    "\n",
    "for i in range(3) :\n",
    "  num = int(input(f'{i+1}번째 정수 입력 : '))\n",
    "  list1.append(num)\n",
    "\n",
    "\n",
    "num4 = max(list1)\n",
    "num5 = min(list1)\n",
    "print(num4 - num5)\n"
   ]
  },
  {
   "cell_type": "code",
   "execution_count": 542,
   "metadata": {},
   "outputs": [
    {
     "name": "stdout",
     "output_type": "stream",
     "text": [
      "29\n"
     ]
    }
   ],
   "source": [
    "#2. 매개변수로 두 개의 리스트를 받아, 두 개의 리스트에 저장된 모든 데이터의 합을 리턴하는 함수를 작성하시오.\n",
    "list4 = [1,2,3,4,5]\n",
    "list5 = [2,3,4,5]\n",
    "list6 = list4 + list5 \n",
    "\n",
    "def sum(list4, list5) :\n",
    "  list_combined = list4 + list5 \n",
    "  total = 0\n",
    "\n",
    "  for i in list_combined:\n",
    "    total += i\n",
    "\n",
    "  return total\n",
    "\n",
    "result = sum(list4, list5)\n",
    "print(result)\n"
   ]
  },
  {
   "cell_type": "code",
   "execution_count": 550,
   "metadata": {},
   "outputs": [
    {
     "name": "stdout",
     "output_type": "stream",
     "text": [
      "hon\n"
     ]
    }
   ],
   "source": [
    "# 문자열도 리스트다!\n",
    "name = 'python'\n",
    "print(name[3:])"
   ]
  },
  {
   "cell_type": "code",
   "execution_count": 560,
   "metadata": {},
   "outputs": [
    {
     "name": "stdout",
     "output_type": "stream",
     "text": [
      "4\n"
     ]
    }
   ],
   "source": [
    "# 아래 리스트에 저장된 문자열에서 'r' 이라는 알파벳의 갯수를 출력\n",
    "strList = ['father', 'mother', 'brother']\n",
    "cnt = 0\n",
    "\n",
    "for i in strList :\n",
    "  cnt += i.count('r')\n",
    "\n",
    "print(cnt)"
   ]
  },
  {
   "cell_type": "code",
   "execution_count": 1,
   "metadata": {},
   "outputs": [
    {
     "name": "stdout",
     "output_type": "stream",
     "text": [
      "4\n"
     ]
    }
   ],
   "source": [
    "strList = ['father', 'mother', 'brother']\n",
    "cnt = 0\n",
    "\n",
    "for i in strList :\n",
    "  for j in i :\n",
    "    if j == 'r' :\n",
    "      cnt += 1\n",
    "\n",
    "print(cnt)"
   ]
  }
 ],
 "metadata": {
  "kernelspec": {
   "display_name": "Python 3",
   "language": "python",
   "name": "python3"
  },
  "language_info": {
   "codemirror_mode": {
    "name": "ipython",
    "version": 3
   },
   "file_extension": ".py",
   "mimetype": "text/x-python",
   "name": "python",
   "nbconvert_exporter": "python",
   "pygments_lexer": "ipython3",
   "version": "3.12.5"
  }
 },
 "nbformat": 4,
 "nbformat_minor": 2
}
