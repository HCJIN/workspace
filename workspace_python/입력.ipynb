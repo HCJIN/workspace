{
 "cells": [
  {
   "cell_type": "code",
   "execution_count": 2,
   "metadata": {},
   "outputs": [
    {
     "name": "stdout",
     "output_type": "stream",
     "text": [
      "입력받은 수는 111 입니다\n"
     ]
    }
   ],
   "source": [
    "# 키보드로 입력받기\n",
    "# input() 함수 사용으로 키보드로 값을 입력받을 수 있다.\n",
    "# input() 함수를 사용하여 키보드로 입력받은 값은 문자열로 인식\n",
    "# 문자열 -> 정수 : int()\n",
    "# 정수 -> 문자열 : str()\n",
    "num = input('숫자를 입력하세요 : ')\n",
    "print(f'입력받은 수는 {num} 입니다')"
   ]
  },
  {
   "cell_type": "code",
   "execution_count": 6,
   "metadata": {},
   "outputs": [
    {
     "name": "stdout",
     "output_type": "stream",
     "text": [
      "두 정수의 합은 30 입니다\n"
     ]
    }
   ],
   "source": [
    "# 두 정수를 입력받아 합을 출력\n",
    "num1 = input('숫자를 입력하세요 : ')\n",
    "# num3 = int(input())\n",
    "num2 = input('숫자를 입력하세요 : ')\n",
    "print(f'두 정수의 합은 {int(num1) + int(num2)} 입니다')"
   ]
  },
  {
   "cell_type": "code",
   "execution_count": 9,
   "metadata": {},
   "outputs": [
    {
     "name": "stdout",
     "output_type": "stream",
     "text": [
      "이름은 홍홍홍 총점은 150 입니다\n",
      "평균은 50.0 입니다\n"
     ]
    }
   ],
   "source": [
    "name = input(\"이름\")\n",
    "ko = int(input(\"국어 : \"))\n",
    "en = int(input(\"영어 : \"))\n",
    "math = int(input(\"수학 : \"))\n",
    "total = ko + en + math\n",
    "avg = (ko+en+math) / 3 \n",
    "print(f'이름은 {name} 총점은 {total} 입니다')\n",
    "print(f'평균은 {avg} 입니다')"
   ]
  },
  {
   "cell_type": "code",
   "execution_count": null,
   "metadata": {},
   "outputs": [],
   "source": []
  },
  {
   "cell_type": "code",
   "execution_count": null,
   "metadata": {},
   "outputs": [],
   "source": []
  },
  {
   "cell_type": "code",
   "execution_count": null,
   "metadata": {},
   "outputs": [],
   "source": []
  },
  {
   "cell_type": "code",
   "execution_count": null,
   "metadata": {},
   "outputs": [],
   "source": []
  },
  {
   "cell_type": "code",
   "execution_count": null,
   "metadata": {},
   "outputs": [],
   "source": []
  }
 ],
 "metadata": {
  "kernelspec": {
   "display_name": "Python 3",
   "language": "python",
   "name": "python3"
  },
  "language_info": {
   "codemirror_mode": {
    "name": "ipython",
    "version": 3
   },
   "file_extension": ".py",
   "mimetype": "text/x-python",
   "name": "python",
   "nbconvert_exporter": "python",
   "pygments_lexer": "ipython3",
   "version": "3.12.5"
  }
 },
 "nbformat": 4,
 "nbformat_minor": 2
}
